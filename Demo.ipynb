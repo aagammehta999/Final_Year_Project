{
 "cells": [
  {
   "cell_type": "code",
   "execution_count": null,
   "id": "803b037a-183e-46e4-bfde-a144dc779cf0",
   "metadata": {
    "execution": {
     "iopub.execute_input": "2022-12-29T07:03:01.120935Z",
     "iopub.status.busy": "2022-12-29T07:03:01.120639Z",
     "iopub.status.idle": "2022-12-29T07:03:03.538100Z",
     "shell.execute_reply": "2022-12-29T07:03:03.537115Z",
     "shell.execute_reply.started": "2022-12-29T07:03:01.120878Z"
    }
   },
   "outputs": [],
   "source": [
    "%%!pip install tensorboardX av torchgeometry flask flask-ngrok iglovikov_helper_functions cloths_segmentation albumentations"
   ]
  },
  {
   "cell_type": "code",
   "execution_count": null,
   "id": "756d9b98-41d4-4f4f-85bc-51c77b99507c",
   "metadata": {
    "execution": {
     "iopub.execute_input": "2022-12-29T07:07:46.679818Z",
     "iopub.status.busy": "2022-12-29T07:07:46.679527Z",
     "iopub.status.idle": "2022-12-29T07:10:34.279721Z",
     "shell.execute_reply": "2022-12-29T07:10:34.278988Z",
     "shell.execute_reply.started": "2022-12-29T07:07:46.679796Z"
    }
   },
   "outputs": [],
   "source": [
    "!python -m pip install 'git+https://github.com/facebookresearch/detectron2.git'"
   ]
  },
  {
   "cell_type": "code",
   "execution_count": null,
   "id": "ba6c8b48-7243-4602-8c62-862f7a8f00cb",
   "metadata": {
    "execution": {
     "iopub.execute_input": "2022-12-29T07:03:17.515189Z",
     "iopub.status.busy": "2022-12-29T07:03:17.514793Z",
     "iopub.status.idle": "2022-12-29T07:03:21.008057Z",
     "shell.execute_reply": "2022-12-29T07:03:21.006831Z",
     "shell.execute_reply.started": "2022-12-29T07:03:17.515153Z"
    }
   },
   "outputs": [],
   "source": [
    "%%!pip install pyngrok==4.1.1"
   ]
  },
  {
   "cell_type": "code",
   "execution_count": null,
   "id": "e163eab2-841c-4372-8f75-3d60cbbe247a",
   "metadata": {
    "execution": {
     "iopub.execute_input": "2022-12-29T07:03:21.010722Z",
     "iopub.status.busy": "2022-12-29T07:03:21.009782Z",
     "iopub.status.idle": "2022-12-29T07:03:22.584809Z",
     "shell.execute_reply": "2022-12-29T07:03:22.583859Z",
     "shell.execute_reply.started": "2022-12-29T07:03:21.010677Z"
    }
   },
   "outputs": [],
   "source": [
    "!ngrok authtoken yourtoken"
   ]
  },
  {
   "cell_type": "code",
   "execution_count": null,
   "id": "70b46c0a-7f56-4cb0-a84c-836caf911ca4",
   "metadata": {},
   "outputs": [],
   "source": []
  }
 ],
 "metadata": {
  "kernelspec": {
   "display_name": "Python 3 (ipykernel)",
   "language": "python",
   "name": "python3"
  },
  "language_info": {
   "codemirror_mode": {
    "name": "ipython",
    "version": 3
   },
   "file_extension": ".py",
   "mimetype": "text/x-python",
   "name": "python",
   "nbconvert_exporter": "python",
   "pygments_lexer": "ipython3",
   "version": "3.9.0"
  }
 },
 "nbformat": 4,
 "nbformat_minor": 5
}
